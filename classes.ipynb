{
  "nbformat": 4,
  "nbformat_minor": 0,
  "metadata": {
    "colab": {
      "name": "Untitled3.ipynb",
      "provenance": []
    },
    "kernelspec": {
      "name": "python3",
      "display_name": "Python 3"
    }
  },
  "cells": [
    {
      "cell_type": "code",
      "metadata": {
        "id": "55058fVQlg8a"
      },
      "source": [
        "# Classes, tipos e objetos\n",
        "\n",
        "#Atributos: aquilo que o objeto tem como caracteristica\n",
        "#Atributos para tipos de dado: aquilo que o tipo necessita como definição\n",
        "#Método: ações que o objeto executa \n",
        "#Métodos para tipos de dados: função que vai ser executada \n",
        "\n",
        "class nome_da_classe:\n",
        "  def __init__(self, argumento_1, argumento_2, argumento_3=None):\n",
        "    self.atributo_1 = argumento_1 #define o que a classe tem de atributos\n",
        "    self.atributo_2 = argumento_2 #atributo da propria classe\n",
        "    self._atributo_3 = argumento_3\n",
        "\n",
        "  def _privado(self, valor): #self tem que ser passado explicitamente\n",
        "    pass\n",
        "\n",
        "  def metodo_1(self):\n",
        "    return self._privado(atributo_1)\n",
        "\n",
        "  def metodo_2(self):\n",
        "    return self.atributo_2 * valor #recebe um input\n",
        "\n",
        "xerox = nome_da_classe('papel', 'tinta', 'toner') #xerox = self nas funções ali em cima\n",
        "xerox._atributo_3 #'tonner', todos os atributos que começam com _ são privados\n"
      ],
      "execution_count": null,
      "outputs": []
    },
    {
      "cell_type": "code",
      "metadata": {
        "colab": {
          "base_uri": "https://localhost:8080/"
        },
        "id": "z19OQ97KqPH3",
        "outputId": "e3b2f0aa-cd3e-49cd-adda-88dd52f118cc"
      },
      "source": [
        "class gatinho:\n",
        "  def __init__(self, nome, cor, idade):\n",
        "    self.nome = nome\n",
        "    self.cor = cor\n",
        "    self.idade = idade\n",
        "    self.mingau_com_fome = False\n",
        "    self.rodado = 0\n",
        "\n",
        "  def miar(self):\n",
        "    if self.mingau_com_fome:\n",
        "      return 'MIAU'\n",
        "    return 'miau', 'miau'\n",
        "\n",
        "  def andar(self):\n",
        "    self.rodado += 1 #aumenta 1 na rotação do gato, ele anda\n",
        "    self.mingau_com_fome = True\n",
        "    return 'mingau andando'\n",
        "\n",
        " #@property = propriedade feita em tempo de execução\n",
        "\n",
        "  @property #método = quando executar método tem que ser invocado -> ()\n",
        "  def velho(self):\n",
        "    return True if self.idade>3 else False\n",
        "\n",
        "  @property \n",
        "  def cansado(self):\n",
        "    return True if self.rodado >5 else False\n",
        "\n",
        "\n",
        "mingau = gatinho('mingau', 'branco', 5)\n",
        "\n",
        "#print(mingau.nome)\n",
        "#print(mingau.cor)\n",
        "#print(mingau.idade)\n",
        "#print(mingau.miar())\n",
        "#print(mingau.andar())\n",
        "#print(mingau.miar()) #o atributo de fome = true só tem no andar, \n",
        "#                                          ele miou de novo depois de andar\n",
        "\n",
        "print(mingau.andar())\n",
        "print(mingau.andar())\n",
        "print(mingau.andar())\n",
        "print(mingau.andar())\n",
        "print(mingau.andar())\n",
        "print(mingau.velho)\n",
        "print(mingau.cansado)"
      ],
      "execution_count": 9,
      "outputs": [
        {
          "output_type": "stream",
          "text": [
            "mingau andando\n",
            "mingau andando\n",
            "mingau andando\n",
            "mingau andando\n",
            "mingau andando\n",
            "mingau andando\n",
            "True\n",
            "True\n"
          ],
          "name": "stdout"
        }
      ]
    },
    {
      "cell_type": "code",
      "metadata": {
        "colab": {
          "base_uri": "https://localhost:8080/"
        },
        "id": "E1UmdetCq-3C",
        "outputId": "6b600841-93ff-4b98-f783-f155f0fd3d15"
      },
      "source": [
        "\"\"\"\n",
        "Pontos, quadrados ...\n",
        "\"\"\"\n",
        "\n",
        "class Ponto:\n",
        "  def __init__(self, x, y): #não tem no colab\n",
        "    self.x = x\n",
        "    self.y = y\n",
        "\n",
        "  def __repr__(self):\n",
        "    return 'Ponto({},{})'.format(self.x, self.y)\n",
        "\n",
        "  \n",
        "#class linha(Ponto): #herença\n",
        "#  pass\n",
        "\n",
        "class linha:\n",
        "  def __init__(self, p_1, p_2):\n",
        "    self.ponto_1 = p_1\n",
        "    self.ponto_2 = p_2\n",
        "\n",
        "  def distancia_x(self):\n",
        "    self.ponto_2.x - self.ponto_1.x\n",
        "\n",
        "  def distancia_y(self):\n",
        "    self.ponto_2.y - self.ponto_1.y\n",
        "\n",
        "  def __repr__(self): #representação\n",
        "    return 'Linha([{}, {}])'.format(self.ponto_1, self.ponto_2)\n",
        "\n",
        "ponto_1 = Ponto(2,2)\n",
        "ponto_2 = Ponto(3,5)\n",
        " #print(ponto_1)\n",
        " # print(linha_1) # peguei todos os parametros de ponto\n",
        "\n",
        "linha_1 = linha(ponto_1, ponto_2)\n",
        "print(linha_1.distancia_x())\n",
        "print(linha_1.distancia_y())"
      ],
      "execution_count": 27,
      "outputs": [
        {
          "output_type": "stream",
          "text": [
            "None\n",
            "None\n"
          ],
          "name": "stdout"
        }
      ]
    },
    {
      "cell_type": "code",
      "metadata": {
        "id": "ujnMXoCAyOnk"
      },
      "source": [
        "class quadrado:\n",
        "  \"\"\"\n",
        "  Resolver  sozinhos\n",
        "\n",
        "  -herança\n",
        "  -classes\n",
        "  \"\"\"\n",
        "  def __init__(self, p1, p2, p3, p4): #forma do quadrado\n",
        "    self.p1=p1\n",
        "    self.p2=p2\n",
        "    self.p3=p3\n",
        "    self.p4=p4\n",
        "\n",
        "\n"
      ],
      "execution_count": null,
      "outputs": []
    },
    {
      "cell_type": "code",
      "metadata": {
        "colab": {
          "base_uri": "https://localhost:8080/"
        },
        "id": "tAx-Vb4Ry_v_",
        "outputId": "402c6cfa-f509-4818-f810-e41337fea780"
      },
      "source": [
        "class vetor:\n",
        "  def __init__(self,x,y):\n",
        "    self.x=x\n",
        "    self.y=y\n",
        "\n",
        "  def __add__(self,vetor):\n",
        "    return (self.x + vetor.x, self.y + vetor.y)\n",
        "\n",
        "  def __mul__(self,n):\n",
        "    return (self.x * n, self.y * n)\n",
        "\n",
        "v1=vetor(2,2)\n",
        "v2=vetor(2,2)\n",
        "\n",
        "\n",
        "#v1*3\n",
        "print(v1+v2)\n",
        "print(v1*3)"
      ],
      "execution_count": 15,
      "outputs": [
        {
          "output_type": "stream",
          "text": [
            "(4, 4)\n",
            "(6, 6)\n"
          ],
          "name": "stdout"
        }
      ]
    }
  ]
}