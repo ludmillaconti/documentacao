{
  "nbformat": 4,
  "nbformat_minor": 0,
  "metadata": {
    "colab": {
      "name": "Untitled2.ipynb",
      "provenance": []
    },
    "kernelspec": {
      "name": "python3",
      "display_name": "Python 3"
    }
  },
  "cells": [
    {
      "cell_type": "code",
      "metadata": {
        "colab": {
          "base_uri": "https://localhost:8080/"
        },
        "id": "vUAxBEwzL_TA",
        "outputId": "55e3f70a-7869-4df5-ebef-b06307b5a29d"
      },
      "source": [
        "# palavra reservadas:\n",
        "# - assert = se a condição é verdaeira\n",
        "# - def = cria uma função\n",
        "\n",
        "3>3"
      ],
      "execution_count": 2,
      "outputs": [
        {
          "output_type": "execute_result",
          "data": {
            "text/plain": [
              "False"
            ]
          },
          "metadata": {
            "tags": []
          },
          "execution_count": 2
        }
      ]
    },
    {
      "cell_type": "code",
      "metadata": {
        "id": "VISuucdwNxn8"
      },
      "source": [
        "assert 3==3\n",
        "\n",
        "def soma(x,y):\n",
        "  return(x+y)\n",
        "\n",
        "assert soma(2,2)==4\n"
      ],
      "execution_count": 8,
      "outputs": []
    },
    {
      "cell_type": "code",
      "metadata": {
        "id": "xfBd3ZvZOvOb"
      },
      "source": [
        "from operator import add\n",
        "\n",
        "def soma(x,y):\n",
        "  return x+y\n",
        "\n",
        "def sub(x,y):\n",
        "  return x-y\n",
        "\n",
        "def mul(x,y):\n",
        "  return x*y\n",
        "\n",
        "#testes\n",
        "assert soma(5,5)==add(5,5)\n",
        "assert sub(5,5)==0\n",
        "assert mul(3,3)==9\n"
      ],
      "execution_count": 14,
      "outputs": []
    },
    {
      "cell_type": "code",
      "metadata": {
        "id": "Se9-vzC5RkYj"
      },
      "source": [
        "from unittest import TestCase, main\n",
        "\n",
        "def soma(x,y):\n",
        "  return x+y\n",
        "\n",
        "def sub(x,y):\n",
        "  return x-y\n",
        "\n",
        "def mul(x,y):\n",
        "  return x*y\n",
        "\n",
        "class Testes(TestCase):\n",
        "  def test_soma(self):\n",
        "    self.assertEqual(soma(5,5),10)\n",
        "\n",
        "  def test_soma_errada(self):\n",
        "    self.assertEqual(soma(5,5),11)\n",
        "\n",
        "  def test_sub(self):\n",
        "    self.assertLess(soma(5,5),11) # assert 10>11\n",
        "\n",
        "  if __name__=='__main__': #pra rodar no terminal\n",
        "    main()"
      ],
      "execution_count": 17,
      "outputs": []
    },
    {
      "cell_type": "code",
      "metadata": {
        "id": "W01BH34bSuu6"
      },
      "source": [
        "def par(val):\n",
        "  return True if val % 2==0 else False\n",
        "\n",
        "class Testes(TestCase):\n",
        "  def test_soma(self):\n",
        "    self.assertEqual(par(2), True)\n",
        "\n",
        "  def test_impar(self):\n",
        "    self.assertEqual(par(3), False)\n",
        "\n",
        "  def test_string(self):\n",
        "    self.assertEqual(par('string'), False)\n",
        "\n"
      ],
      "execution_count": 22,
      "outputs": []
    },
    {
      "cell_type": "code",
      "metadata": {
        "id": "phGkNKQ7WIL8"
      },
      "source": [
        "#como verificar se o usuario vai colocar o que deve ser colocado\n",
        "\n",
        "#TDD\n",
        "\n",
        "def par(val:int) -> bool:\n",
        "  \"\"\"\n",
        "  Função que verifica se o número é par\n",
        "\n",
        "  Arg:\n",
        "      -val: Valor de entrada do tipo inteiro\n",
        "  \"\"\"\n",
        "  if isinstance(val, int):\n",
        "    return if val %2 ==0 else False\n",
        "  else:\n",
        "    return False\n",
        "  \n",
        " # try:\n",
        " #   return True if val % 2==0 else False\n",
        " # except TypeError:\n",
        " #   return False\n",
        "\n",
        "\n",
        "class Testes(TestCase):\n",
        "  def test_soma(self):\n",
        "    self.assertEqual(par(2), True)\n",
        "\n",
        "  def test_impar(self):\n",
        "    self.assertEqual(par(3), False)\n",
        "\n",
        "  def test_string(self):\n",
        "    self.assertEqual(par('string'), False)\n",
        "\n",
        "  def test_float(self):\n",
        "    self.assertEqual(par(4,5), False)"
      ],
      "execution_count": 24,
      "outputs": []
    },
    {
      "cell_type": "code",
      "metadata": {
        "id": "P20KM1toXTLK"
      },
      "source": [
        "#bahave features/calc_feature(nome do arquivo escrito: \n",
        "#step aqui em baixo)--junit -> linha de comando terminal\n",
        "#\n",
        "\n",
        "\n",
        "#from ccc import par #importar arquivos\n",
        "#abc é um modulo do python\n",
        "\n",
        "#Behave\n",
        "#pip install behave\n",
        "\n",
        "\"\"\"\n",
        "step\n",
        "\n",
        "Funcionalidade: Soma\n",
        "  Cenário: adição basica\n",
        "    Quando somar \"2\" com \"2\"\n",
        "    Então o resultado deve ser \"4\" \n",
        "\n",
        "\"\"\"\n",
        "\n",
        "from behave import step \n",
        "\n",
        "def soma(x,y):\n",
        "  return x+y\n",
        "\n",
        "#result\n",
        "\n",
        "@step('somar \"{val_0:d}\" com \"{val_1:d}\"')\n",
        "def test_soma(context, val_0, val_1):\n",
        "#  global result \n",
        "  context.result = soma(val_0,val_1)\n",
        "\n",
        "@step('o resultado deve ser \"{resultado:d}\"')\n",
        "def test_soma_result(context, resultado):\n",
        "  assert context.result == resultado\n",
        "\n"
      ],
      "execution_count": null,
      "outputs": []
    },
    {
      "cell_type": "code",
      "metadata": {
        "id": "hvbESL7ef6OV"
      },
      "source": [
        "\"\"\"\n",
        "step\n",
        "\n",
        "Funcionalidade: Soma\n",
        "  Cenário: adição basica\n",
        "    Quando somar \"2\" com \"2\"\n",
        "    Então o resultado deve ser \"4\" \n",
        "  Cenário: adição do ponto flutuante\n",
        "#precisa trocar para float o tipo de retorno pq no behave só funciona com numeros inteiros\n",
        "    Quando somar \"2.0\" com \"2.0\"\n",
        "    Então o resultado deve ser \"4.0\" \n",
        "\n",
        "\"\"\"\n",
        "\n",
        "from behave import step \n",
        "\n",
        "def soma(x,y):\n",
        "  return x+y\n",
        "\n",
        "#result\n",
        "\n",
        "@step('somar \"{val_0:f}\" com \"{val_1:f}\"')\n",
        "def test_soma(context, val_0, val_1):\n",
        "#  global result \n",
        "  context.result = float (soma(float (val_0),float (val_1)))\n",
        "\n",
        "@step('o resultado deve ser \"{resultado:f}\"')\n",
        "def test_soma_result(context, resultado):\n",
        "  assert context.result == float (resultado)"
      ],
      "execution_count": null,
      "outputs": []
    },
    {
      "cell_type": "code",
      "metadata": {
        "id": "I4uJuL7mjqO9"
      },
      "source": [
        ""
      ],
      "execution_count": null,
      "outputs": []
    }
  ]
}